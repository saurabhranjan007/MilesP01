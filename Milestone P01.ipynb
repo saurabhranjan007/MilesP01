{
 "cells": [
  {
   "cell_type": "markdown",
   "id": "ff8f8fcd-33c4-48a4-93ee-6d0c549c9857",
   "metadata": {},
   "source": [
    "# Predicting Heart Disease using Machine Learning \n",
    "\n",
    "This notebook looks into using various python-based machine learning and data science libraries, in an attempt to predict if someone has a heart disease or not? Based on their medical attributes. "
   ]
  },
  {
   "cell_type": "markdown",
   "id": "b7ba8f2a-88b7-4e33-8b76-56eadd8a4a05",
   "metadata": {},
   "source": [
    "## The following is the framework being used here to predict the heart disease:\n",
    "\n",
    "1. Problem Definition \n",
    "2. Data \n",
    "3. Evaluation \n",
    "4. Features \n",
    "5. Modeling \n",
    "6. Experimentation "
   ]
  },
  {
   "cell_type": "code",
   "execution_count": 5,
   "id": "c9d14630-c845-42e4-bd31-4d7425fa20d9",
   "metadata": {},
   "outputs": [],
   "source": [
    "# Getting the tools ready \n",
    "\n",
    "# Regular EDA (Exploratory Data Analysis) and Plotting Libraries \n",
    "import numpy as np \n",
    "import pandas as pd \n",
    "import matplotlib.pyplot as plt \n",
    "import seaborn as sns # build on matplotlib \n",
    "\n",
    "# Since we want our plots to appear inside the notebook \n",
    "%matplotlib inline \n",
    "\n",
    "# Models from scikit-learn \n",
    "from sklearn.linear_model import LogisticRegression \n",
    "from sklearn.neighbors import KNeighborsClassifier \n",
    "from sklearn.ensemble import RandomForestClassifier \n",
    "\n",
    "# Model Evaluation \n",
    "from sklearn.model_selection import train_test_split, cross_val_score \n",
    "from sklearn.model_selection import RandomizedSearchCV, GridSearchCV\n",
    "from sklearn.metrics import confusion_matrix, classification_report \n",
    "from sklearn.metrics import precision_score, recall_score, f1_score \n",
    "# from sklearn.metrics import plot_roc_curve # now depricated \n",
    "from sklearn.metrics import RocCurveDisplay \n",
    "\n",
    "# # Assuming 'model' is your trained classifier, and X_test, y_test are your test data:\n",
    "# roc_disp = RocCurveDisplay.from_estimator(model, X_test, y_test)\n",
    "# roc_disp.plot()"
   ]
  },
  {
   "cell_type": "code",
   "execution_count": null,
   "id": "bb06604d-d279-4177-9365-5ae69402a5a0",
   "metadata": {},
   "outputs": [],
   "source": []
  }
 ],
 "metadata": {
  "kernelspec": {
   "display_name": "Python 3 (ipykernel)",
   "language": "python",
   "name": "python3"
  },
  "language_info": {
   "codemirror_mode": {
    "name": "ipython",
    "version": 3
   },
   "file_extension": ".py",
   "mimetype": "text/x-python",
   "name": "python",
   "nbconvert_exporter": "python",
   "pygments_lexer": "ipython3",
   "version": "3.13.2"
  }
 },
 "nbformat": 4,
 "nbformat_minor": 5
}
